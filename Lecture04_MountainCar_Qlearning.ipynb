{
  "cells": [
    {
      "cell_type": "markdown",
      "metadata": {
        "id": "eBOidlLUZ8ut"
      },
      "source": [
        "# Mountain Car and Q-Learning\n",
        "\n",
        "The mountain car is a control theory task where you have to get a car on top of a mountain by pushing it gently left and right (and you cannot just push it up directly because the car is too heavy).\n",
        "\n",
        "In this lecture we will use Q-learning to learn a policy to solve the mountain car."
      ]
    },
    {
      "cell_type": "markdown",
      "metadata": {
        "id": "85V0ZVe6Xnl6"
      },
      "source": [
        "# Clones, Installs, Imports"
      ]
    },
    {
      "cell_type": "markdown",
      "source": [
        "## Clone GitHub Repository\n",
        "This will clone the repository to your machine.  This includes the code and data files.  Then change into the directory of the repository."
      ],
      "metadata": {
        "id": "acYxqwaOJWlB"
      }
    },
    {
      "cell_type": "code",
      "source": [
        "!git clone https://github.com/zlisto/reinforcement_learning_tutorial\n",
        "\n",
        "import os\n",
        "os.chdir(\"reinforcement_learning_tutorial\")"
      ],
      "metadata": {
        "colab": {
          "base_uri": "https://localhost:8080/"
        },
        "id": "PdxDNSKiJbeR",
        "outputId": "50ade81f-8ba7-4f50-f04d-5d6ad1c26bfa"
      },
      "execution_count": 1,
      "outputs": [
        {
          "output_type": "stream",
          "name": "stdout",
          "text": [
            "Cloning into 'reinforcement_learning_tutorial'...\n",
            "remote: Enumerating objects: 36, done.\u001b[K\n",
            "remote: Counting objects: 100% (36/36), done.\u001b[K\n",
            "remote: Compressing objects: 100% (27/27), done.\u001b[K\n",
            "remote: Total 36 (delta 10), reused 33 (delta 7), pack-reused 0\u001b[K\n",
            "Unpacking objects: 100% (36/36), done.\n"
          ]
        }
      ]
    },
    {
      "cell_type": "markdown",
      "metadata": {
        "id": "4_7GvOIujgoQ"
      },
      "source": [
        "## Install Packages"
      ]
    },
    {
      "cell_type": "code",
      "execution_count": 2,
      "metadata": {
        "colab": {
          "base_uri": "https://localhost:8080/"
        },
        "id": "gAfP3ADFacaW",
        "outputId": "5b000f34-3fdf-4063-da3b-c06d6b10a0ee"
      },
      "outputs": [
        {
          "output_type": "stream",
          "name": "stdout",
          "text": [
            "Looking in indexes: https://pypi.org/simple, https://us-python.pkg.dev/colab-wheels/public/simple/\n",
            "Requirement already satisfied: gym in /usr/local/lib/python3.7/dist-packages (0.17.3)\n",
            "Collecting pyvirtualdisplay\n",
            "  Downloading PyVirtualDisplay-3.0-py3-none-any.whl (15 kB)\n",
            "Requirement already satisfied: scipy in /usr/local/lib/python3.7/dist-packages (from gym) (1.7.3)\n",
            "Requirement already satisfied: pyglet<=1.5.0,>=1.4.0 in /usr/local/lib/python3.7/dist-packages (from gym) (1.5.0)\n",
            "Requirement already satisfied: cloudpickle<1.7.0,>=1.2.0 in /usr/local/lib/python3.7/dist-packages (from gym) (1.3.0)\n",
            "Requirement already satisfied: numpy>=1.10.4 in /usr/local/lib/python3.7/dist-packages (from gym) (1.21.6)\n",
            "Requirement already satisfied: future in /usr/local/lib/python3.7/dist-packages (from pyglet<=1.5.0,>=1.4.0->gym) (0.16.0)\n",
            "Installing collected packages: pyvirtualdisplay\n",
            "Successfully installed pyvirtualdisplay-3.0\n",
            "Reading package lists... Done\n",
            "Building dependency tree       \n",
            "Reading state information... Done\n",
            "ffmpeg is already the newest version (7:3.4.11-0ubuntu0.1).\n",
            "The following package was automatically installed and is no longer required:\n",
            "  libnvidia-common-460\n",
            "Use 'apt autoremove' to remove it.\n",
            "Suggested packages:\n",
            "  libgle3\n",
            "The following NEW packages will be installed:\n",
            "  python-opengl xvfb\n",
            "0 upgraded, 2 newly installed, 0 to remove and 49 not upgraded.\n",
            "Need to get 1,281 kB of archives.\n",
            "After this operation, 7,687 kB of additional disk space will be used.\n",
            "Get:1 http://archive.ubuntu.com/ubuntu bionic/universe amd64 python-opengl all 3.1.0+dfsg-1 [496 kB]\n",
            "Get:2 http://archive.ubuntu.com/ubuntu bionic-updates/universe amd64 xvfb amd64 2:1.19.6-1ubuntu4.11 [785 kB]\n",
            "Fetched 1,281 kB in 0s (4,160 kB/s)\n",
            "Selecting previously unselected package python-opengl.\n",
            "(Reading database ... 155653 files and directories currently installed.)\n",
            "Preparing to unpack .../python-opengl_3.1.0+dfsg-1_all.deb ...\n",
            "Unpacking python-opengl (3.1.0+dfsg-1) ...\n",
            "Selecting previously unselected package xvfb.\n",
            "Preparing to unpack .../xvfb_2%3a1.19.6-1ubuntu4.11_amd64.deb ...\n",
            "Unpacking xvfb (2:1.19.6-1ubuntu4.11) ...\n",
            "Setting up python-opengl (3.1.0+dfsg-1) ...\n",
            "Setting up xvfb (2:1.19.6-1ubuntu4.11) ...\n",
            "Processing triggers for man-db (2.8.3-2ubuntu0.1) ...\n"
          ]
        }
      ],
      "source": [
        "!pip install gym pyvirtualdisplay \n",
        "!apt-get install -y xvfb python-opengl ffmpeg \n"
      ]
    },
    {
      "cell_type": "markdown",
      "metadata": {
        "id": "X1kA7yCXZ8uz"
      },
      "source": [
        "## Import Librarires\n",
        "\n"
      ]
    },
    {
      "cell_type": "code",
      "execution_count": 3,
      "metadata": {
        "colab": {
          "base_uri": "https://localhost:8080/"
        },
        "id": "Lk8C9VyWZ8u1",
        "outputId": "9ef7e046-64c9-4f29-e4c9-bc675d211918"
      },
      "outputs": [
        {
          "output_type": "execute_result",
          "data": {
            "text/plain": [
              "<pyvirtualdisplay.display.Display at 0x7f252fb7f310>"
            ]
          },
          "metadata": {},
          "execution_count": 3
        }
      ],
      "source": [
        "from scripts.rl_helper import *\n",
        "\n",
        "import gym\n",
        "from gym.wrappers import Monitor\n",
        "import glob\n",
        "import io\n",
        "import base64\n",
        "from IPython.display import HTML\n",
        "from pyvirtualdisplay import Display\n",
        "from IPython import display as ipythondisplay\n",
        "\n",
        "\n",
        "\n",
        "import matplotlib.pyplot as plt\n",
        "import seaborn as sns\n",
        "import numpy as np\n",
        "import pandas as pd\n",
        "\n",
        "display = Display(visible=0, size=(1400, 900))\n",
        "display.start()"
      ]
    },
    {
      "cell_type": "markdown",
      "metadata": {
        "id": "vOLwaFV1tM8g"
      },
      "source": [
        "# Mountain Car Environment\n",
        "The name of the simulator environment is `\"MountainCar-v0\"`, which we save to a variable `env_name`.  We can load the simulator environment with the `gym.make` function.  We use the `wrap_env` function so we can visualize the output of the simulator in Colab.  \n",
        "\n",
        "Note: You can load many different gym simulator environments with this line of code.  Just change `env_name`.  You can find a list of the gym environments here: https://www.gymlibrary.ml/"
      ]
    },
    {
      "cell_type": "markdown",
      "metadata": {
        "id": "ZSRL_6FJxq-l"
      },
      "source": [
        "## Load Environment"
      ]
    },
    {
      "cell_type": "code",
      "execution_count": 4,
      "metadata": {
        "id": "CowPqDbzhr7t"
      },
      "outputs": [],
      "source": [
        "env_name = 'MountainCar-v0'\n",
        "\n"
      ]
    },
    {
      "cell_type": "markdown",
      "metadata": {
        "id": "d7v4zWxsSgZq"
      },
      "source": [
        "## Run Environment\n"
      ]
    },
    {
      "cell_type": "code",
      "execution_count": 5,
      "metadata": {
        "colab": {
          "base_uri": "https://localhost:8080/",
          "height": 0
        },
        "id": "gXo2e-Bthwtp",
        "outputId": "8693322f-d758-43b1-afb0-723bb1b31a5e"
      },
      "outputs": [
        {
          "output_type": "stream",
          "name": "stdout",
          "text": [
            "MountainCar-v0 Score = -200.0, Steps = 200\n"
          ]
        },
        {
          "output_type": "display_data",
          "data": {
            "text/plain": [
              "<IPython.core.display.HTML object>"
            ],
            "text/html": [
              "<video alt=\"test\" autoplay \n",
              "                controls style=\"height: 500px;\">\n",
              "                <source src=\"data:video/mp4;base64,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\" type=\"video/mp4\" />\n",
              "             </video>"
            ]
          },
          "metadata": {}
        }
      ],
      "source": [
        "env = wrap_env(gym.make(env_name))\n",
        "\n",
        "observation = env.reset()\n",
        "score = 0\n",
        "step = 0\n",
        "while True:\n",
        "    env.render()\n",
        "    step+=1\n",
        "    # your agent goes here\n",
        "    action = env.action_space.sample()\n",
        "    \n",
        "    observation, reward, done, _ = env.step(action)\n",
        "    score+=reward\n",
        "    if done:\n",
        "        break\n",
        "print(f\"{env_name} Score = {score}, Steps = {step}\")\n",
        "env.close()\n",
        "show_video()\n",
        "\n",
        "\n",
        "  \n",
        "\n"
      ]
    },
    {
      "cell_type": "markdown",
      "metadata": {
        "id": "QKtIAuVuIVG9"
      },
      "source": [
        "# Q-Learning\n",
        "\n",
        "We wil train an agent to solve the mountain car using Q-learning.  We will make a Q-table, which is a tensor (a high dimensional matrix) indexed by the states and actions.  The value in each cell of the table equals the rewards that will be achieved if one takes the action when in the given state, and then play the game perfectly.  Q-learning lets us update the values in this table as we play to learn the right policy.  \n",
        "\n",
        "When we are done, we will have the tensor `Q` which is the Q-table.  To use this table, in each step of the simulator, we check what state we are in.  Then, we look up this row in the table, and choose the action in this row with the highest value."
      ]
    },
    {
      "cell_type": "markdown",
      "metadata": {
        "id": "uPUVpFulIVG9"
      },
      "source": [
        "## Discretize State\n",
        "\n",
        "To use Q-learning, we need to discretize the state.  That means we assign an integer to each value of the state.  The mountain car state is the x-coordinate $x$ and the velocity $v$.  These are in the ranges \n",
        "\n",
        "$-1.2\\leq x \\leq 0.6$\n",
        "\n",
        "$-0.07\\leq v \\leq 0.07$  \n",
        "\n",
        "In the code below, let's write a function to turn the continuous state $(x,v)$ into a discrete state that is a pair of integers."
      ]
    },
    {
      "cell_type": "code",
      "source": [
        "def discrete_state(state):\n",
        "  x = state[0]\n",
        "  v = state[1]\n",
        "  xdiscrete = \n",
        "  \n",
        "  vdiscrete = \n",
        "  state_discrete = (xdiscrete, vdiscrete)\n",
        "  return state_discrete\n"
      ],
      "metadata": {
        "id": "0A8W1kw2aE2g"
      },
      "execution_count": 6,
      "outputs": []
    },
    {
      "cell_type": "markdown",
      "source": [
        "## Number of States\n",
        "\n",
        "We need to get the number of discrete states for each dimension to make the Q-table.  You can do this by taking the maximum state value and discretizing it (and then adding 1 since Python starts counting at 0)."
      ],
      "metadata": {
        "id": "2Aiu_I98bov8"
      }
    },
    {
      "cell_type": "code",
      "source": [
        "num_states = \n",
        "print(f\"number of states = {num_states}\")\n"
      ],
      "metadata": {
        "colab": {
          "base_uri": "https://localhost:8080/"
        },
        "id": "SyFD8Rzca-Cf",
        "outputId": "a82e7c23-9bd4-4f1d-cb67-dac8bbaa9a1c"
      },
      "execution_count": 7,
      "outputs": [
        {
          "output_type": "stream",
          "name": "stdout",
          "text": [
            "number of states = [19 15]\n"
          ]
        }
      ]
    },
    {
      "cell_type": "markdown",
      "metadata": {
        "id": "Ha_X5fECIVG-"
      },
      "source": [
        "## Initialize Q-table\n",
        "We initialize the Q-table as an array with dimensions `(num_states[0], num_states[1], num_actions)`.  We also initialize `reward_list` as a list of the reward of agent after each episode.  \n"
      ]
    },
    {
      "cell_type": "code",
      "execution_count": 8,
      "metadata": {
        "colab": {
          "base_uri": "https://localhost:8080/"
        },
        "id": "lrVrIGVkIVG-",
        "outputId": "a0ad378e-b586-46bc-a192-4e09a48fbdc1"
      },
      "outputs": [
        {
          "output_type": "stream",
          "name": "stdout",
          "text": [
            "Q table shape = (19, 15, 3)\n"
          ]
        }
      ],
      "source": [
        "# Initialize Q table\n",
        "num_actions = env.action_space.n\n",
        "Q = np.random.uniform(low = -1, high = 1, \n",
        "                    size = ())\n",
        "print(f\"Q table shape = {Q.shape}\")\n",
        "\n",
        "# Initialize rewards list\n",
        "reward_list = []\n"
      ]
    },
    {
      "cell_type": "markdown",
      "metadata": {
        "id": "oh28oNzvIVG_"
      },
      "source": [
        "## Initialize Parameters\n",
        "\n",
        "We choose a few parameters for Q-learning.\n",
        "\n",
        "1. `learning` = how much we change the Q-table by in each iteration\n",
        "\n",
        "2. `discount` = hw much we discount past rewards\n",
        "\n",
        "3. `epsilon` = the probability with which we ignore the Q-table and take a random action (this makes the algorithm not get stuck in loops)\n",
        "\n",
        "4. `min_epsilon` = lower bound for epsilon\n",
        "\n",
        "5. `episodes` = the number of episodes of the simulator we play to learn\n",
        "\n",
        "6. `reduction` = how much we decrease `epsilon` by after each episode.  As we learn more, we want to do random actions less."
      ]
    },
    {
      "cell_type": "code",
      "execution_count": 9,
      "metadata": {
        "id": "ZDcTI664IVG_"
      },
      "outputs": [],
      "source": [
        "learning = 0.2\n",
        "discount = 0.9\n",
        "epsilon = 0.8\n",
        "min_epsilon = 0\n",
        "episodes = 10000\n",
        "\n",
        "\n",
        "# Calculate episodic reduction in epsilon after each episode\n",
        "reduction = epsilon/episodes"
      ]
    },
    {
      "cell_type": "markdown",
      "metadata": {
        "id": "h-7Mq1wDIVG_"
      },
      "source": [
        "## Run Q-learning Algorithm\n",
        "\n",
        "You can run this loop again to keep training the agent. It will pick up where it left off.  The Q-learning step is calculated as follows.  First, based on the action `action` you took from `state` into `state2`, the one-step look-ahead value in the Q-table is\n",
        "\n",
        "$Q_{new}(\\text{state},\\text{action}) = \\text{reward} +\\text{discount}\\times \\max_{a}Q(\\text{state2},a) $\n",
        "\n",
        "The old value in the Q-table is simply $Q_{new}(\\text{state},\\text{action})$.  We change this value by the difference of this and $Q_{new}$, weighted by the learning rate `learning`.\n",
        "\n",
        "$\\text{delta} = \\text{learning}\\times(Q_{new}(\\text{state},\\text{action})-Q(\\text{state},\\text{action}))$\n",
        "\n",
        "$Q(\\text{state},\\text{action}) = Q(\\text{state},\\text{action})+\\text{delta}$.\n",
        "\n",
        "Also, keep track of the best reward and best Q-table you have so far."
      ]
    },
    {
      "cell_type": "code",
      "execution_count": null,
      "metadata": {
        "scrolled": true,
        "id": "6kzK1hs9IVHA"
      },
      "outputs": [],
      "source": [
        "print(f\"Running Q-learning on {env_name} for {episodes} episodes\")\n",
        "best_reward = -np.inf\n",
        "Qbest = Q\n",
        "for i in range(episodes):\n",
        "    # Initialize parameters\n",
        "    done = False\n",
        "    tot_reward = 0  #total rewards for the episode\n",
        "    state = env.reset()\n",
        "\n",
        "    # Discretize state\n",
        "    state_adj = \n",
        "    while done != True:   \n",
        "        \n",
        "        # Determine next action - epsilon greedy strategy\n",
        "        if np.random.random() < 1 - epsilon:\n",
        "            action =  \n",
        "        else:\n",
        "            action = \n",
        "\n",
        "        # Get next state and reward\n",
        "        state2, reward, done, info = env.step(action) \n",
        "\n",
        "        # Discretize state2\n",
        "        state2_adj = \n",
        "        \n",
        "        #Allow for terminal states\n",
        "        if done and state2[0] >= 0.5:\n",
        "            Q[state_adj[0], state_adj[1], action] = reward\n",
        "\n",
        "        # Q-Learning: adjust Q value for current state\n",
        "        else:\n",
        "            Qnew = \n",
        "            Qold = \n",
        "            delta = \n",
        "            Q[state_adj[0], state_adj[1],action] += delta\n",
        "\n",
        "        # Update variables\n",
        "        tot_reward += reward\n",
        "        state_adj = state2_adj\n",
        "\n",
        "    # Decay epsilon\n",
        "    if epsilon > min_epsilon:\n",
        "        epsilon -= reduction\n",
        "\n",
        "    # Track rewards\n",
        "    reward_list.append(tot_reward)\n",
        "    if (i+1) % 1000 == 0:         \n",
        "        print(f'Episode {i+1}: 100 episode average reward = {avg_reward}')\n",
        "    \n",
        "    # Save Q-table if new high 100 episode average\n",
        "    avg_reward = np.mean(reward_list[-100:])\n",
        "    if avg_reward> best_reward:\n",
        "      Qbest = \n",
        "      best_reward = \n",
        "      print(f\"New best reward: step {i}: {best_reward}\")\n",
        "    \n",
        "env.close()"
      ]
    },
    {
      "cell_type": "markdown",
      "metadata": {
        "id": "3tNqdBJSIVHA"
      },
      "source": [
        "## Plot Rewards vs. Episode\n",
        "\n",
        "We make a column of the moving average of the rewards using the `rolling` and `mean` functions on the `reward` column of the dataframe."
      ]
    },
    {
      "cell_type": "code",
      "execution_count": 21,
      "metadata": {
        "id": "6yuJsJoSIVHB"
      },
      "outputs": [],
      "source": [
        "# Plot Rewards\n",
        "mavg = 100 #number of episodes to avg rewards over\n",
        "df = pd.DataFrame({'episode':list(range(len(reward_list))), \n",
        "                   'reward':reward_list})\n",
        "df[f'reward_{mavg}mavg'] = \n"
      ]
    },
    {
      "cell_type": "code",
      "execution_count": null,
      "metadata": {
        "id": "tTN-WR9vIVHB"
      },
      "outputs": [],
      "source": [
        "fig = plt.figure(figsize = (8,6))\n",
        "sns.lineplot(data = df[mavg:], x='episode', \n",
        "             y = f'reward_{mavg}mavg',\n",
        "            color = 'orange')\n",
        "plt.xlabel('Episodes')\n",
        "plt.ylabel('Average Reward')\n",
        "plt.title(f'Q-learning on {env_name}')\n",
        "plt.grid()\n",
        "plt.show()"
      ]
    },
    {
      "cell_type": "markdown",
      "metadata": {
        "id": "H3MvuTD1IVHC"
      },
      "source": [
        "# Test Trained Agent\n",
        "\n",
        "Make sure you use your best Q-table `Qbest` to selection `action`."
      ]
    },
    {
      "cell_type": "code",
      "execution_count": null,
      "metadata": {
        "id": "Px5nZLMyIVHC"
      },
      "outputs": [],
      "source": [
        "env = wrap_env(gym.make(env_name))\n",
        "\n",
        "state = env.reset()\n",
        "score = 0\n",
        "step = 0\n",
        "while True:\n",
        "    env.render()\n",
        "    step+=1\n",
        "    # your agent goes here\n",
        "    state_adj = discrete_state(state)\n",
        "    action = \n",
        "    state, reward, done, _ = env.step(action)\n",
        "    score+=reward\n",
        "    if done:\n",
        "        break\n",
        "print(f\"{env_name} Score = {score}, Steps = {step}\")\n",
        "env.close()\n",
        "show_video() \n",
        "\n",
        "\n",
        "\n"
      ]
    },
    {
      "cell_type": "code",
      "execution_count": null,
      "metadata": {
        "id": "pK858JsRIVHC"
      },
      "outputs": [],
      "source": [
        ""
      ]
    }
  ],
  "metadata": {
    "accelerator": "GPU",
    "colab": {
      "collapsed_sections": [
        "85V0ZVe6Xnl6",
        "acYxqwaOJWlB",
        "4_7GvOIujgoQ",
        "vOLwaFV1tM8g"
      ],
      "name": "Lecture04_MountainCar_Qlearning_draft.ipynb",
      "provenance": [],
      "toc_visible": true
    },
    "gpuClass": "standard",
    "kernelspec": {
      "display_name": "Python 3",
      "language": "python",
      "name": "python3"
    },
    "language_info": {
      "codemirror_mode": {
        "name": "ipython",
        "version": 3
      },
      "file_extension": ".py",
      "mimetype": "text/x-python",
      "name": "python",
      "nbconvert_exporter": "python",
      "pygments_lexer": "ipython3",
      "version": "3.7.2"
    }
  },
  "nbformat": 4,
  "nbformat_minor": 0
}