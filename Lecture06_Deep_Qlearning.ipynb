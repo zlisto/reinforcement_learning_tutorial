{
  "cells": [
    {
      "cell_type": "markdown",
      "metadata": {
        "id": "eBOidlLUZ8ut"
      },
      "source": [
        "# Deep Q-Learning\n",
        "\n",
        "In this lecture we will use Deep Q-learning to learn a policy to solve a simulator in the Open AI Gym."
      ]
    },
    {
      "cell_type": "markdown",
      "metadata": {
        "id": "85V0ZVe6Xnl6"
      },
      "source": [
        "# Clones, Installs, Imports"
      ]
    },
    {
      "cell_type": "markdown",
      "source": [
        "## Clone GitHub Repository\n",
        "This will clone the repository to your machine.  This includes the code and data files.  Then change into the directory of the repository."
      ],
      "metadata": {
        "id": "acYxqwaOJWlB"
      }
    },
    {
      "cell_type": "code",
      "source": [
        "!git clone https://github.com/zlisto/reinforcement_learning_tutorial\n",
        "\n",
        "import os\n",
        "os.chdir(\"reinforcement_learning_tutorial\")"
      ],
      "metadata": {
        "colab": {
          "base_uri": "https://localhost:8080/"
        },
        "id": "PdxDNSKiJbeR",
        "outputId": "cf068726-b6e9-47c6-fba1-98064f9afbb4"
      },
      "execution_count": 1,
      "outputs": [
        {
          "output_type": "stream",
          "name": "stdout",
          "text": [
            "Cloning into 'reinforcement_learning_tutorial'...\n",
            "remote: Enumerating objects: 53, done.\u001b[K\n",
            "remote: Counting objects: 100% (53/53), done.\u001b[K\n",
            "remote: Compressing objects: 100% (40/40), done.\u001b[K\n",
            "remote: Total 53 (delta 19), reused 45 (delta 11), pack-reused 0\u001b[K\n",
            "Unpacking objects: 100% (53/53), done.\n"
          ]
        }
      ]
    },
    {
      "cell_type": "markdown",
      "metadata": {
        "id": "4_7GvOIujgoQ"
      },
      "source": [
        "## Install Packages"
      ]
    },
    {
      "cell_type": "code",
      "execution_count": 2,
      "metadata": {
        "id": "gAfP3ADFacaW",
        "colab": {
          "base_uri": "https://localhost:8080/"
        },
        "outputId": "f45a3c37-dbcb-4300-900a-014e585496e7"
      },
      "outputs": [
        {
          "output_type": "stream",
          "name": "stdout",
          "text": [
            "Looking in indexes: https://pypi.org/simple, https://us-python.pkg.dev/colab-wheels/public/simple/\n",
            "Requirement already satisfied: gym in /usr/local/lib/python3.7/dist-packages (0.17.3)\n",
            "Collecting pyvirtualdisplay\n",
            "  Downloading PyVirtualDisplay-3.0-py3-none-any.whl (15 kB)\n",
            "Collecting Box2D\n",
            "  Downloading Box2D-2.3.10-cp37-cp37m-manylinux1_x86_64.whl (1.3 MB)\n",
            "\u001b[K     |████████████████████████████████| 1.3 MB 7.1 MB/s \n",
            "\u001b[?25hCollecting box2d-py\n",
            "  Downloading box2d_py-2.3.8-cp37-cp37m-manylinux1_x86_64.whl (448 kB)\n",
            "\u001b[K     |████████████████████████████████| 448 kB 46.3 MB/s \n",
            "\u001b[?25hRequirement already satisfied: pyglet<=1.5.0,>=1.4.0 in /usr/local/lib/python3.7/dist-packages (from gym) (1.5.0)\n",
            "Requirement already satisfied: cloudpickle<1.7.0,>=1.2.0 in /usr/local/lib/python3.7/dist-packages (from gym) (1.3.0)\n",
            "Requirement already satisfied: scipy in /usr/local/lib/python3.7/dist-packages (from gym) (1.7.3)\n",
            "Requirement already satisfied: numpy>=1.10.4 in /usr/local/lib/python3.7/dist-packages (from gym) (1.21.6)\n",
            "Requirement already satisfied: future in /usr/local/lib/python3.7/dist-packages (from pyglet<=1.5.0,>=1.4.0->gym) (0.16.0)\n",
            "Installing collected packages: pyvirtualdisplay, box2d-py, Box2D\n",
            "Successfully installed Box2D-2.3.10 box2d-py-2.3.8 pyvirtualdisplay-3.0\n",
            "Reading package lists... Done\n",
            "Building dependency tree       \n",
            "Reading state information... Done\n",
            "ffmpeg is already the newest version (7:3.4.11-0ubuntu0.1).\n",
            "The following package was automatically installed and is no longer required:\n",
            "  libnvidia-common-460\n",
            "Use 'apt autoremove' to remove it.\n",
            "Suggested packages:\n",
            "  libgle3\n",
            "The following NEW packages will be installed:\n",
            "  python-opengl xvfb\n",
            "0 upgraded, 2 newly installed, 0 to remove and 49 not upgraded.\n",
            "Need to get 1,281 kB of archives.\n",
            "After this operation, 7,687 kB of additional disk space will be used.\n",
            "Get:1 http://archive.ubuntu.com/ubuntu bionic/universe amd64 python-opengl all 3.1.0+dfsg-1 [496 kB]\n",
            "Get:2 http://archive.ubuntu.com/ubuntu bionic-updates/universe amd64 xvfb amd64 2:1.19.6-1ubuntu4.11 [785 kB]\n",
            "Fetched 1,281 kB in 1s (952 kB/s)\n",
            "Selecting previously unselected package python-opengl.\n",
            "(Reading database ... 155673 files and directories currently installed.)\n",
            "Preparing to unpack .../python-opengl_3.1.0+dfsg-1_all.deb ...\n",
            "Unpacking python-opengl (3.1.0+dfsg-1) ...\n",
            "Selecting previously unselected package xvfb.\n",
            "Preparing to unpack .../xvfb_2%3a1.19.6-1ubuntu4.11_amd64.deb ...\n",
            "Unpacking xvfb (2:1.19.6-1ubuntu4.11) ...\n",
            "Setting up python-opengl (3.1.0+dfsg-1) ...\n",
            "Setting up xvfb (2:1.19.6-1ubuntu4.11) ...\n",
            "Processing triggers for man-db (2.8.3-2ubuntu0.1) ...\n"
          ]
        }
      ],
      "source": [
        "!pip install gym pyvirtualdisplay  Box2D box2d-py\n",
        "!apt-get install -y xvfb python-opengl ffmpeg \n"
      ]
    },
    {
      "cell_type": "markdown",
      "metadata": {
        "id": "X1kA7yCXZ8uz"
      },
      "source": [
        "## Import Librarires\n",
        "\n"
      ]
    },
    {
      "cell_type": "code",
      "execution_count": 3,
      "metadata": {
        "id": "Lk8C9VyWZ8u1",
        "colab": {
          "base_uri": "https://localhost:8080/"
        },
        "outputId": "2ade33bd-598f-42a0-d832-077966951f3a"
      },
      "outputs": [
        {
          "output_type": "execute_result",
          "data": {
            "text/plain": [
              "<pyvirtualdisplay.display.Display at 0x7f23d98fe790>"
            ]
          },
          "metadata": {},
          "execution_count": 3
        }
      ],
      "source": [
        "from scripts.rl_helper import *\n",
        "\n",
        "import gym\n",
        "from gym.wrappers import Monitor\n",
        "import glob\n",
        "import io\n",
        "import base64\n",
        "from IPython.display import HTML\n",
        "from pyvirtualdisplay import Display\n",
        "from IPython import display as ipythondisplay\n",
        "\n",
        "\n",
        "\n",
        "import matplotlib.pyplot as plt\n",
        "import seaborn as sns\n",
        "import numpy as np\n",
        "import pandas as pd\n",
        "\n",
        "import random\n",
        "import torch\n",
        "import torch.nn as nn\n",
        "import torch.nn.functional as F\n",
        "import torch.optim as optim\n",
        "import base64, io\n",
        "\n",
        "from collections import deque, namedtuple\n",
        "\n",
        "# For visualization\n",
        "from gym.wrappers.monitoring import video_recorder\n",
        "from IPython.display import HTML\n",
        "from IPython import display \n",
        "import glob\n",
        "\n",
        "\n",
        "display = Display(visible=0, size=(1400, 900))\n",
        "display.start()"
      ]
    },
    {
      "cell_type": "markdown",
      "metadata": {
        "id": "vOLwaFV1tM8g"
      },
      "source": [
        "# Simulator Environment\n",
        "Set the name of the simulator environment to a variable `env_name`.  We can load the simulator environment with the `gym.make` function.  We use the `wrap_env` function so we can visualize the output of the simulator in Colab.  \n",
        "\n",
        "Note: You can load many different gym simulator environments with this line of code.  Just change `env_name`.  You can find a list of the gym environments here: https://www.gymlibrary.ml/"
      ]
    },
    {
      "cell_type": "markdown",
      "metadata": {
        "id": "ZSRL_6FJxq-l"
      },
      "source": [
        "## Load Environment"
      ]
    },
    {
      "cell_type": "code",
      "execution_count": 4,
      "metadata": {
        "id": "CowPqDbzhr7t"
      },
      "outputs": [],
      "source": [
        "env_name = \"LunarLander-v2\"\n",
        "#env_name = \"Acrobot-v1\"\n",
        "#env_name = \"MountainCar-v0\"\n",
        "#env_name = \"CartPole-v1\""
      ]
    },
    {
      "cell_type": "markdown",
      "metadata": {
        "id": "d7v4zWxsSgZq"
      },
      "source": [
        "## Run Environment\n"
      ]
    },
    {
      "cell_type": "code",
      "execution_count": 5,
      "metadata": {
        "colab": {
          "base_uri": "https://localhost:8080/",
          "height": 539
        },
        "id": "gXo2e-Bthwtp",
        "outputId": "d061d3d0-886a-40aa-c73e-4e88fc9e3cc2"
      },
      "outputs": [
        {
          "output_type": "stream",
          "name": "stdout",
          "text": [
            "LunarLander-v2 Score = -454.0827655886745, Steps = 90\n"
          ]
        },
        {
          "output_type": "display_data",
          "data": {
            "text/plain": [
              "<IPython.core.display.HTML object>"
            ],
            "text/html": [
              "<video alt=\"test\" autoplay \n",
              "                controls style=\"height: 500px;\">\n",
              "                <source src=\"data:video/mp4;base64,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\" type=\"video/mp4\" />\n",
              "             </video>"
            ]
          },
          "metadata": {}
        }
      ],
      "source": [
        "env = wrap_env(gym.make(env_name))\n",
        "\n",
        "observation = env.reset()\n",
        "score = 0\n",
        "step = 0\n",
        "while True:\n",
        "    env.render()\n",
        "    step+=1\n",
        "    # your agent goes here\n",
        "    action = env.action_space.sample()\n",
        "    \n",
        "    observation, reward, done, _ = env.step(action)\n",
        "    score+=reward\n",
        "    if done:\n",
        "        break\n",
        "print(f\"{env_name} Score = {score}, Steps = {step}\")\n",
        "env.close()\n",
        "show_video()\n",
        "\n",
        "\n",
        "  \n",
        "\n"
      ]
    },
    {
      "cell_type": "markdown",
      "metadata": {
        "id": "QKtIAuVuIVG9"
      },
      "source": [
        "# Deep Q-Learning\n",
        "\n",
        "We wil train an agent to solve the mountain car using Q-learning.  We will make a Q-table, which is a tensor (a high dimensional matrix) indexed by the states and actions.  The value in each cell of the table equals the rewards that will be achieved if one takes the action when in the given state, and then play the game perfectly.  Q-learning lets us update the values in this table as we play to learn the right policy.  \n",
        "\n",
        "When we are done, we will have the tensor `Q` which is the Q-table.  To use this table, in each step of the simulator, we check what state we are in.  Then, we look up this row in the table, and choose the action in this row with the highest value."
      ]
    },
    {
      "cell_type": "markdown",
      "metadata": {
        "id": "oh28oNzvIVG_"
      },
      "source": [
        "## Initialize Parameters\n",
        "\n",
        "We choose a few parameters for Deep Q-learning.\n"
      ]
    },
    {
      "cell_type": "code",
      "execution_count": 6,
      "metadata": {
        "id": "ZDcTI664IVG_"
      },
      "outputs": [],
      "source": [
        "BUFFER_SIZE = int(1e5)  # replay buffer size\n",
        "BATCH_SIZE = 64         # minibatch size\n",
        "GAMMA = 0.99            # discount factor\n",
        "TAU = 1e-3              # for soft update of target parameters\n",
        "LR = 5e-4               # learning rate \n",
        "UPDATE_EVERY = 4        # how often to update the network"
      ]
    },
    {
      "cell_type": "markdown",
      "source": [
        "## Neural Network Architecture\n",
        "\n",
        "We define a class `QNetwork` which contains the architecture of the neural network we will use to represent the Q-table."
      ],
      "metadata": {
        "id": "jzSUpXuBtaJC"
      }
    },
    {
      "cell_type": "code",
      "source": [
        "class QNetwork(nn.Module):\n",
        "    \"\"\"Actor (Policy) Model.\"\"\"\n",
        "\n",
        "    def __init__(self, state_size, action_size, seed):\n",
        "        \"\"\"Initialize parameters and build model.\n",
        "        Params\n",
        "        ======\n",
        "            state_size (int): Dimension of each state\n",
        "            action_size (int): Dimension of each action\n",
        "            seed (int): Random seed\n",
        "        \"\"\"\n",
        "        super(QNetwork, self).__init__()\n",
        "        self.seed = torch.manual_seed(seed)\n",
        "        #design layers of Q-network\n",
        "        self.fc1 = \n",
        "        self.fc2 = \n",
        "        self.fc3 = \n",
        "        \n",
        "    def forward(self, state):\n",
        "        \"\"\"Build a network that maps state -> action values.\"\"\"\n",
        "        #each step of the Q-network (linear layers followed by ReLUs)\n",
        "        x1 = \n",
        "        x2 = \n",
        "        x3 = \n",
        "        x4 = \n",
        "        output = \n",
        "        return output"
      ],
      "metadata": {
        "id": "BIuyrFaBtZJS"
      },
      "execution_count": 8,
      "outputs": []
    },
    {
      "cell_type": "markdown",
      "source": [
        "## Use a GPU\n",
        "\n",
        "A GPU makes training the neural network much faster.  We define `device` as the processor we are using.  It is either `cpu` or `cuda:0` (a GPU)."
      ],
      "metadata": {
        "id": "cpjYxL4Ut95F"
      }
    },
    {
      "cell_type": "code",
      "source": [
        "device = torch.device(\"cuda:0\" if torch.cuda.is_available() else \"cpu\")\n",
        "print(f\"Device = {device}\")"
      ],
      "metadata": {
        "colab": {
          "base_uri": "https://localhost:8080/"
        },
        "id": "1fHQ9B_bt7lM",
        "outputId": "3184c06f-e99a-45dd-8dc4-6e51b7695298"
      },
      "execution_count": 9,
      "outputs": [
        {
          "output_type": "stream",
          "name": "stdout",
          "text": [
            "Device = cuda:0\n"
          ]
        }
      ]
    },
    {
      "cell_type": "markdown",
      "source": [
        "## Define Replay Buffer\n",
        "\n",
        "We save each step we take in the simulator in the replay buffer.  Then when we update the local Q-network parameters, we sample a batch of random steps from this buffer, and use these to update."
      ],
      "metadata": {
        "id": "sagcwLBwvgz3"
      }
    },
    {
      "cell_type": "code",
      "source": [
        "class ReplayBuffer:\n",
        "    \"\"\"Fixed-size buffer to store experience tuples.\"\"\"\n",
        "\n",
        "    def __init__(self, action_size, buffer_size, batch_size, seed):\n",
        "        \"\"\"Initialize a ReplayBuffer object.\n",
        "\n",
        "        Params\n",
        "        ======\n",
        "            action_size (int): dimension of each action\n",
        "            buffer_size (int): maximum size of buffer\n",
        "            batch_size (int): size of each training batch\n",
        "            seed (int): random seed\n",
        "        \"\"\"\n",
        "        self.action_size = action_size\n",
        "        self.memory = deque(maxlen=buffer_size)  \n",
        "        self.batch_size = batch_size\n",
        "        self.experience = namedtuple(\"Experience\", field_names=[\"state\", \"action\", \"reward\", \"next_state\", \"done\"])\n",
        "        self.seed = random.seed(seed)\n",
        "    \n",
        "    def add(self, state, action, reward, next_state, done):\n",
        "        \"\"\"Add a new experience to memory.\"\"\"\n",
        "        e = self.experience(state, action, reward, next_state, done)\n",
        "        self.memory.append(e)\n",
        "    \n",
        "    def sample(self):\n",
        "        \"\"\"Randomly sample a batch of experiences from memory.\"\"\"\n",
        "        experiences = random.sample(self.memory, k=self.batch_size)\n",
        "\n",
        "        states = torch.from_numpy(np.vstack([e.state for e in experiences if e is not None])).float().to(device)\n",
        "        actions = torch.from_numpy(np.vstack([e.action for e in experiences if e is not None])).long().to(device)\n",
        "        rewards = torch.from_numpy(np.vstack([e.reward for e in experiences if e is not None])).float().to(device)\n",
        "        next_states = torch.from_numpy(np.vstack([e.next_state for e in experiences if e is not None])).float().to(device)\n",
        "        dones = torch.from_numpy(np.vstack([e.done for e in experiences if e is not None]).astype(np.uint8)).float().to(device)\n",
        "  \n",
        "        return (states, actions, rewards, next_states, dones)\n",
        "\n",
        "    def __len__(self):\n",
        "        \"\"\"Return the current size of internal memory.\"\"\"\n",
        "        return len(self.memory)"
      ],
      "metadata": {
        "id": "QQX7MDw2vswp"
      },
      "execution_count": 22,
      "outputs": []
    },
    {
      "cell_type": "markdown",
      "source": [
        "## Agent Class\n",
        "\n",
        "We define a class `Agent` that contains a lot of the functionality needed for Deep Q-Learning.  In particular, it has methods for\n",
        "\n",
        "1.  `step` - advance the simulator environment one step and then call the `learn` function to update local Q-network parameters.\n",
        "\n",
        "2. `act` - take an action in the simulator using the local Q-network.\n",
        "\n",
        "3. `learn` - update the local Q-network parameters using the Q-learning algorithm combined with back-propagation (derivative with respect to neural network parameters).\n",
        "\n",
        "\n",
        "\n"
      ],
      "metadata": {
        "id": "dxqd-SC7t5fD"
      }
    },
    {
      "cell_type": "code",
      "source": [
        "class Agent():\n",
        "    \"\"\"Interacts with and learns from the environment.\"\"\"\n",
        "\n",
        "    def __init__(self, state_size, action_size, seed):\n",
        "        \"\"\"Initialize an Agent object.\n",
        "        \n",
        "        Params\n",
        "        ======\n",
        "            state_size (int): dimension of each state\n",
        "            action_size (int): dimension of each action\n",
        "            seed (int): random seed\n",
        "        \"\"\"\n",
        "        self.state_size = state_size\n",
        "        self.action_size = action_size\n",
        "        self.seed = random.seed(seed)\n",
        "\n",
        "        # Local Q-Network (this is updated using Q-Learning)\n",
        "        self.qnetwork_local = \n",
        "        # Target (1-step look ahead) Q-network (this is updated slower)\n",
        "        self.qnetwork_target = \n",
        "\n",
        "        #optimizer used to train Q-network\n",
        "        self.optimizer = \n",
        "\n",
        "        # Replay memory\n",
        "        self.memory = ReplayBuffer(action_size, BUFFER_SIZE, BATCH_SIZE, seed)\n",
        "        \n",
        "        # Initialize time step (for updating every UPDATE_EVERY steps)\n",
        "        self.t_step = 0\n",
        "    \n",
        "    def step(self, state, action, reward, next_state, done):\n",
        "        #increase step counter by 1\n",
        "        self.t_step += 1\n",
        "\n",
        "        # Save experience in replay memory\n",
        "        self.memory.add(state, action, reward, next_state, done)\n",
        "        \n",
        "\n",
        "        # Learn every UPDATE_EVERY time steps.\n",
        "        if self.t_step % UPDATE_EVERY== 0:\n",
        "            # If enough samples are available in memory, get random subset and learn\n",
        "            if len(self.memory) > BATCH_SIZE:\n",
        "                experiences = self.memory.sample()\n",
        "                self.learn(experiences, GAMMA)\n",
        "\n",
        "    def act(self, state, eps=0.):\n",
        "        \"\"\"Returns actions for given state as per current policy.\n",
        "        \n",
        "        Params\n",
        "        ======\n",
        "            state (array_like): current state\n",
        "            eps (float): epsilon, for epsilon-greedy action selection\n",
        "        \"\"\"\n",
        "        state = torch.from_numpy(state).float().unsqueeze(0).to(device)\n",
        "        self.qnetwork_local.eval()\n",
        "        with torch.no_grad():\n",
        "            action_values = self.qnetwork_local(state)\n",
        "        self.qnetwork_local.train()\n",
        "\n",
        "        # Epsilon-greedy action selection\n",
        "        if random.random() > eps:  #choose action using Q-network\n",
        "            action =  np.argmax(action_values.cpu().data.numpy())\n",
        "        else: #choose a random action\n",
        "            action =  random.choice(np.arange(self.action_size))\n",
        "\n",
        "        return action\n",
        "\n",
        "    def learn(self, experiences, gamma):\n",
        "        \"\"\"Update value parameters using given batch of experience tuples.\n",
        "\n",
        "        Params\n",
        "        ======\n",
        "            experiences (Tuple[torch.Variable]): tuple of (s, a, r, s', done) tuples \n",
        "            gamma (float): discount factor\n",
        "        \"\"\"\n",
        "        # Obtain random minibatch of tuples from D\n",
        "        states, actions, rewards, next_states, dones = experiences\n",
        "\n",
        "      \n",
        "        ### Calculate expected value from local network given the action chosen\n",
        "        q_expected = self.qnetwork_local(states).gather(1, actions)\n",
        "        ### Extract next (one-step) maximum estimated value from target network\n",
        "        q_targets_next = self.qnetwork_target(next_states).detach().max(1)[0].unsqueeze(1)\n",
        "        ### Calculate Q-value using the one-step look ahead equation\n",
        "        q_targets = \n",
        "        \n",
        "        ### Loss calculation (we used Mean squared error between q_expected and q_targets)\n",
        "        loss = \n",
        "\n",
        "        ##Use backpropagation to update Q-network parameters\n",
        "        #Zero out the existing gradients\n",
        "        self.optimizer.zero_grad()\n",
        "        #Back propagate errors\n",
        "        \n",
        "        #Change the Q-network parameters with a step\n",
        "        \n",
        "\n",
        "        # ------------------- update target network ------------------- #\n",
        "        self.soft_update(self.qnetwork_local, self.qnetwork_target, TAU)                     \n",
        "\n",
        "    def soft_update(self, local_model, target_model, tau):\n",
        "        \"\"\"Soft update model parameters.\n",
        "        θ_target = τ*θ_local + (1 - τ)*θ_target\n",
        "\n",
        "        Params\n",
        "        ======\n",
        "            local_model (PyTorch model): weights will be copied from\n",
        "            target_model (PyTorch model): weights will be copied to\n",
        "            tau (float): interpolation parameter \n",
        "        \"\"\"\n",
        "        for target_param, local_param in zip(target_model.parameters(), local_model.parameters()):\n",
        "            target_param.data.copy_(tau*local_param.data + (1.0-tau)*target_param.data)"
      ],
      "metadata": {
        "id": "DEgO2VMNudDy"
      },
      "execution_count": 23,
      "outputs": []
    },
    {
      "cell_type": "markdown",
      "source": [
        "## DQN Function\n",
        "\n",
        "The function `dqn` will run the deep Q-learning loop.  It takes the following inputs:\n",
        "\n",
        "1. `n_episodes` (int): maximum number of training episodes\n",
        "\n",
        "2. `max_t` (int): maximum number of timesteps per episode\n",
        "        \n",
        "3. `eps_start` (float): starting value of epsilon, for epsilon-greedy action selection\n",
        "        \n",
        "4. `eps_end` (float): minimum value of epsilon\n",
        "        \n",
        "5. `eps_decay` (float): multiplicative factor (per episode) for decreasing epsilon"
      ],
      "metadata": {
        "id": "bmNbAg59wkF2"
      }
    },
    {
      "cell_type": "code",
      "source": [
        "def dqn(fname,score_win, n_episodes=2000, max_t=1000, eps_start=1.0, eps_end=0.01, eps_decay=0.995):\n",
        "    scores = []                        # list containing scores from each episode\n",
        "    scores_window = deque(maxlen=100)  # last 100 scores\n",
        "    eps = eps_start                    # initialize epsilon\n",
        "\n",
        "    #play epsidode\n",
        "    for i_episode in range(1, n_episodes+1):\n",
        "        state = env.reset()\n",
        "        score = 0\n",
        "        for t in range(max_t):\n",
        "            #take an action\n",
        "            action = \n",
        "            #take step in simulator\n",
        "            next_state, reward, done, _ = \n",
        "            #agent does a Q-learning step\n",
        "            \n",
        "            #update state to be the next state\n",
        "            \n",
        "            #add the reward to the episode score\n",
        "            \n",
        "            #end the loop if at the end of the episode\n",
        "            \n",
        "\n",
        "        scores_window.append(score)       # save most recent score\n",
        "        scores.append(score)              # save most recent score\n",
        "        avg_score = np.mean(scores_window)  #avg score of last 100 episodes\n",
        "       \n",
        "        # decrease epsilon\n",
        "        eps = max(eps_end, eps_decay*eps) \n",
        "       \n",
        "        print(f'\\rEpisode {i_episode}\\tAverage Score: {avg_score:.2f}', end=\"\")\n",
        "\n",
        "        if i_episode % 100 == 0:\n",
        "            print(f'\\rEpisode {i_episode}\\tAverage Score: {avg_score:.2f}')\n",
        "        \n",
        "        if np.mean(scores_window)>=score_win:            \n",
        "            print(f\"\\nEnvironment solved in {i_episode-100:d} episodes!\")\n",
        "            print(f\"\\tAverage Score: {avg_score:.2f}\")\n",
        "            #save Q-network in you win\n",
        "            torch.save(agent.qnetwork_local.state_dict(), fname)\n",
        "            #end the for loop because you won and dont need to learn anymore\n",
        "            break\n",
        "    #Save Q-network (even if you dont win)\n",
        "    torch.save(agent.qnetwork_local.state_dict(), fname)\n",
        "    return scores\n",
        "\n"
      ],
      "metadata": {
        "id": "EDdOhk02vdt1"
      },
      "execution_count": 24,
      "outputs": []
    },
    {
      "cell_type": "markdown",
      "source": [
        "# Train Agent"
      ],
      "metadata": {
        "id": "TOJwLR0txF3E"
      }
    },
    {
      "cell_type": "markdown",
      "source": [
        "## Initialize the Agent"
      ],
      "metadata": {
        "id": "Ap2DrFdwv7cT"
      }
    },
    {
      "cell_type": "code",
      "source": [
        "num_states = env.observation_space.shape[0]\n",
        "num_actions = env.action_space.n\n",
        "print(f\"{num_states} dimension state space\")\n",
        "print(f\"{num_actions} dimension action space\")\n",
        "\n",
        "agent = Agent(state_size=num_states, action_size=num_actions, seed=0)\n"
      ],
      "metadata": {
        "colab": {
          "base_uri": "https://localhost:8080/"
        },
        "id": "bNqI1p91v9yw",
        "outputId": "13196a86-a763-4bc5-f83e-c7e628d95b02"
      },
      "execution_count": null,
      "outputs": [
        {
          "output_type": "stream",
          "name": "stdout",
          "text": [
            "8 dimension state space\n",
            "4 dimension action space\n"
          ]
        }
      ]
    },
    {
      "cell_type": "markdown",
      "source": [
        "## Run DQN"
      ],
      "metadata": {
        "id": "33jyvkP2F8Dt"
      }
    },
    {
      "cell_type": "code",
      "source": [
        "fname = f'{env_name}_checkpoint.pth'\n",
        "score_win = 200\n",
        "n_episodes=2000\n",
        "\n",
        "#run Deep Q-learning\n",
        "scores = dqn(fname, score_win,n_episodes)"
      ],
      "metadata": {
        "colab": {
          "base_uri": "https://localhost:8080/"
        },
        "id": "L_aTDJgpxHod",
        "outputId": "50ec498e-9510-433e-9e6c-b8adb0d96e17"
      },
      "execution_count": 26,
      "outputs": [
        {
          "output_type": "stream",
          "name": "stdout",
          "text": [
            "Episode 100\tAverage Score: -168.00\n",
            "Episode 200\tAverage Score: -124.88\n",
            "Episode 300\tAverage Score: -44.12\n",
            "Episode 400\tAverage Score: 13.10\n",
            "Episode 500\tAverage Score: 68.50\n",
            "Episode 600\tAverage Score: 161.72\n",
            "Episode 700\tAverage Score: 221.36\n",
            "Episode 800\tAverage Score: 229.36\n",
            "Episode 900\tAverage Score: 192.96\n",
            "Episode 1000\tAverage Score: 217.29\n",
            "Episode 1100\tAverage Score: 228.97\n",
            "Episode 1200\tAverage Score: 226.59\n",
            "Episode 1300\tAverage Score: 222.60\n",
            "Episode 1400\tAverage Score: 220.04\n",
            "Episode 1500\tAverage Score: 230.29\n",
            "Episode 1600\tAverage Score: 230.87\n",
            "Episode 1700\tAverage Score: 235.02\n",
            "Episode 1800\tAverage Score: 235.44\n",
            "Episode 1900\tAverage Score: 239.40\n",
            "Episode 2000\tAverage Score: 239.77\n"
          ]
        }
      ]
    },
    {
      "cell_type": "markdown",
      "metadata": {
        "id": "3tNqdBJSIVHA"
      },
      "source": [
        "## Plot Rewards vs. Episode\n",
        "\n",
        "We make a column of the moving average of the rewards using the `rolling` and `mean` functions on the `reward` column of the dataframe."
      ]
    },
    {
      "cell_type": "code",
      "execution_count": 27,
      "metadata": {
        "id": "6yuJsJoSIVHB"
      },
      "outputs": [],
      "source": [
        "# Plot Rewards\n",
        "mavg = 100 #number of episodes to avg rewards over\n",
        "df = pd.DataFrame({'episode':list(range(len(scores))), \n",
        "                   'score':scores})\n",
        "df[f'score_{mavg}mavg'] = df.score.rolling(100).mean()\n"
      ]
    },
    {
      "cell_type": "code",
      "execution_count": 28,
      "metadata": {
        "id": "tTN-WR9vIVHB",
        "colab": {
          "base_uri": "https://localhost:8080/",
          "height": 404
        },
        "outputId": "7ee009da-4bf8-4349-9c4a-576498e8a842"
      },
      "outputs": [
        {
          "output_type": "display_data",
          "data": {
            "text/plain": [
              "<Figure size 576x432 with 1 Axes>"
            ],
            "image/png": "[encoded data removed]"
          },
          "metadata": {
            "needs_background": "light"
          }
        }
      ],
      "source": [
        "fig = plt.figure(figsize = (8,6))\n",
        "sns.lineplot(data = df[mavg:], x='episode', \n",
        "             y = f'score_{mavg}mavg',\n",
        "            color = 'orange')\n",
        "plt.xlabel('Episodes')\n",
        "plt.ylabel('Score')\n",
        "plt.title(f'Deep Q-learning on {env_name}')\n",
        "plt.grid()\n",
        "plt.show()"
      ]
    },
    {
      "cell_type": "markdown",
      "metadata": {
        "id": "H3MvuTD1IVHC"
      },
      "source": [
        "# Test Trained Agent\n",
        "\n"
      ]
    },
    {
      "cell_type": "code",
      "source": [
        "fname = f'{env_name}_checkpoint.pth'\n",
        "env = wrap_env(gym.make(env_name))\n",
        "\n",
        "num_states = env.observation_space.shape[0]\n",
        "num_actions = env.action_space.n\n",
        "print(f\"{num_states} dimension state space\")\n",
        "print(f\"{num_actions} dimension action space\")\n",
        "\n",
        "agent = Agent(state_size=num_states, action_size=num_actions, seed=0)\n",
        "\n",
        "agent.qnetwork_local.load_state_dict(torch.load(fname))"
      ],
      "metadata": {
        "colab": {
          "base_uri": "https://localhost:8080/"
        },
        "id": "w9YFY2DX01uw",
        "outputId": "0ef77953-6215-4649-bff0-42d0974b0edb"
      },
      "execution_count": 29,
      "outputs": [
        {
          "output_type": "stream",
          "name": "stdout",
          "text": [
            "8 dimension state space\n",
            "4 dimension action space\n"
          ]
        },
        {
          "output_type": "execute_result",
          "data": {
            "text/plain": [
              "<All keys matched successfully>"
            ]
          },
          "metadata": {},
          "execution_count": 29
        }
      ]
    },
    {
      "cell_type": "code",
      "execution_count": 30,
      "metadata": {
        "id": "Px5nZLMyIVHC",
        "colab": {
          "base_uri": "https://localhost:8080/",
          "height": 539
        },
        "outputId": "02e9a2c6-658d-430e-de48-10aca3d6833a"
      },
      "outputs": [
        {
          "output_type": "stream",
          "name": "stdout",
          "text": [
            "LunarLander-v2 Score = 270.20508853818075, Steps = 260\n"
          ]
        },
        {
          "output_type": "display_data",
          "data": {
            "text/plain": [
              "<IPython.core.display.HTML object>"
            ],
            "text/html": [
              "<video alt=\"test\" autoplay \n",
              "                controls style=\"height: 500px;\">\n",
              "                <source src=\"data:video/mp4;base64,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\" type=\"video/mp4\" />\n",
              "             </video>"
            ]
          },
          "metadata": {}
        }
      ],
      "source": [
        "env = wrap_env(gym.make(env_name))\n",
        "\n",
        "state = env.reset()\n",
        "score = 0\n",
        "step = 0\n",
        "while True:\n",
        "    env.render()\n",
        "    step+=1\n",
        "    # your agent goes here\n",
        "    action = agent.act(state)\n",
        "    state, reward, done, _ = env.step(action)\n",
        "    score+=reward\n",
        "    if done:\n",
        "        break\n",
        "print(f\"{env_name} Score = {score}, Steps = {step}\")\n",
        "env.close()\n",
        "show_video() \n",
        "\n",
        "\n",
        "\n"
      ]
    },
    {
      "cell_type": "code",
      "execution_count": null,
      "metadata": {
        "id": "pK858JsRIVHC"
      },
      "outputs": [],
      "source": [
        ""
      ]
    }
  ],
  "metadata": {
    "accelerator": "GPU",
    "colab": {
      "collapsed_sections": [
        "85V0ZVe6Xnl6"
      ],
      "name": "Lecture06_Deep_Qlearning_draft.ipynb",
      "provenance": [],
      "toc_visible": true
    },
    "gpuClass": "standard",
    "kernelspec": {
      "display_name": "Python 3",
      "language": "python",
      "name": "python3"
    },
    "language_info": {
      "codemirror_mode": {
        "name": "ipython",
        "version": 3
      },
      "file_extension": ".py",
      "mimetype": "text/x-python",
      "name": "python",
      "nbconvert_exporter": "python",
      "pygments_lexer": "ipython3",
      "version": "3.7.2"
    }
  },
  "nbformat": 4,
  "nbformat_minor": 0
}